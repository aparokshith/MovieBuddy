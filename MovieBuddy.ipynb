{
  "nbformat": 4,
  "nbformat_minor": 0,
  "metadata": {
    "colab": {
      "provenance": [],
      "authorship_tag": "ABX9TyOIuLIkb3M5Notcpi8uoxCH",
      "include_colab_link": true
    },
    "kernelspec": {
      "name": "python3",
      "display_name": "Python 3"
    },
    "language_info": {
      "name": "python"
    },
    "accelerator": "GPU",
    "gpuClass": "standard"
  },
  "cells": [
    {
      "cell_type": "markdown",
      "metadata": {
        "id": "view-in-github",
        "colab_type": "text"
      },
      "source": [
        "<a href=\"https://colab.research.google.com/github/aparokshith/MovieBuddy/blob/main/MovieBuddy.ipynb\" target=\"_parent\"><img src=\"https://colab.research.google.com/assets/colab-badge.svg\" alt=\"Open In Colab\"/></a>"
      ]
    },
    {
      "cell_type": "code",
      "execution_count": 1,
      "metadata": {
        "colab": {
          "base_uri": "https://localhost:8080/"
        },
        "id": "zBxP5Q8cDMgn",
        "outputId": "d318376f-dabf-4eaf-8d70-ad022aac2b17"
      },
      "outputs": [
        {
          "output_type": "stream",
          "name": "stdout",
          "text": [
            "Looking in indexes: https://pypi.org/simple, https://us-python.pkg.dev/colab-wheels/public/simple/\n",
            "Requirement already satisfied: pyspark in /usr/local/lib/python3.8/dist-packages (3.3.1)\n",
            "Requirement already satisfied: py4j==0.10.9.5 in /usr/local/lib/python3.8/dist-packages (from pyspark) (0.10.9.5)\n"
          ]
        }
      ],
      "source": [
        "!pip install pyspark"
      ]
    },
    {
      "cell_type": "code",
      "source": [
        "from pyspark.ml.recommendation import ALS\n",
        "from pyspark.ml.evaluation import RegressionEvaluator\n",
        "from pyspark.context import SparkContext\n",
        "from pyspark.sql.session import SparkSession\n",
        "from pyspark.sql import functions\n",
        "spark = SparkSession.builder.getOrCreate()"
      ],
      "metadata": {
        "id": "5IDyeIU5DYTd"
      },
      "execution_count": 2,
      "outputs": []
    },
    {
      "cell_type": "code",
      "source": [
        "#from google.colab import drive\n",
        "#drive.mount('/gdrive')\n",
        "#%cd /gdrive"
      ],
      "metadata": {
        "id": "UVR9wmZsDoHW"
      },
      "execution_count": 3,
      "outputs": []
    },
    {
      "cell_type": "code",
      "source": [
        "! pip install kaggle\n",
        "! mkdir ~/.kaggle\n",
        "! cp /content/kaggle.json ~/.kaggle/\n",
        "! chmod 600 ~/.kaggle/kaggle.json"
      ],
      "metadata": {
        "colab": {
          "base_uri": "https://localhost:8080/"
        },
        "id": "P_GbmX61FIFW",
        "outputId": "1a6e2856-dbc9-46fa-e9c9-60242be38410"
      },
      "execution_count": 4,
      "outputs": [
        {
          "output_type": "stream",
          "name": "stdout",
          "text": [
            "Looking in indexes: https://pypi.org/simple, https://us-python.pkg.dev/colab-wheels/public/simple/\n",
            "Requirement already satisfied: kaggle in /usr/local/lib/python3.8/dist-packages (1.5.12)\n",
            "Requirement already satisfied: tqdm in /usr/local/lib/python3.8/dist-packages (from kaggle) (4.64.1)\n",
            "Requirement already satisfied: python-slugify in /usr/local/lib/python3.8/dist-packages (from kaggle) (7.0.0)\n",
            "Requirement already satisfied: python-dateutil in /usr/local/lib/python3.8/dist-packages (from kaggle) (2.8.2)\n",
            "Requirement already satisfied: six>=1.10 in /usr/local/lib/python3.8/dist-packages (from kaggle) (1.15.0)\n",
            "Requirement already satisfied: urllib3 in /usr/local/lib/python3.8/dist-packages (from kaggle) (1.24.3)\n",
            "Requirement already satisfied: requests in /usr/local/lib/python3.8/dist-packages (from kaggle) (2.23.0)\n",
            "Requirement already satisfied: certifi in /usr/local/lib/python3.8/dist-packages (from kaggle) (2022.12.7)\n",
            "Requirement already satisfied: text-unidecode>=1.3 in /usr/local/lib/python3.8/dist-packages (from python-slugify->kaggle) (1.3)\n",
            "Requirement already satisfied: chardet<4,>=3.0.2 in /usr/local/lib/python3.8/dist-packages (from requests->kaggle) (3.0.4)\n",
            "Requirement already satisfied: idna<3,>=2.5 in /usr/local/lib/python3.8/dist-packages (from requests->kaggle) (2.10)\n",
            "mkdir: cannot create directory ‘/root/.kaggle’: File exists\n"
          ]
        }
      ]
    },
    {
      "cell_type": "code",
      "source": [
        "! kaggle datasets download grouplens/movielens-20m-dataset"
      ],
      "metadata": {
        "colab": {
          "base_uri": "https://localhost:8080/"
        },
        "id": "qZyGYgADuCg2",
        "outputId": "bb911003-9fbb-4481-e879-c7f57ac10185"
      },
      "execution_count": 5,
      "outputs": [
        {
          "output_type": "stream",
          "name": "stdout",
          "text": [
            "movielens-20m-dataset.zip: Skipping, found more recently modified local copy (use --force to force download)\n"
          ]
        }
      ]
    },
    {
      "cell_type": "code",
      "source": [
        "\n",
        "! unzip /content/movielens-20m-dataset.zip"
      ],
      "metadata": {
        "colab": {
          "base_uri": "https://localhost:8080/"
        },
        "id": "707F3tF6HrdI",
        "outputId": "56f5d91b-6491-403d-c2c9-43cfdc21bb28"
      },
      "execution_count": 6,
      "outputs": [
        {
          "output_type": "stream",
          "name": "stdout",
          "text": [
            "Archive:  /content/movielens-20m-dataset.zip\n",
            "replace genome_scores.csv? [y]es, [n]o, [A]ll, [N]one, [r]ename: N\n"
          ]
        }
      ]
    },
    {
      "cell_type": "code",
      "source": [
        "ratings_df = spark.read.csv('/content/rating.csv',header = True)\n",
        "ratings_df.show( n =5)"
      ],
      "metadata": {
        "colab": {
          "base_uri": "https://localhost:8080/"
        },
        "id": "yktYLx0nMOJZ",
        "outputId": "4411e8b4-5b64-4d9b-addd-e91602febf4e"
      },
      "execution_count": 7,
      "outputs": [
        {
          "output_type": "stream",
          "name": "stdout",
          "text": [
            "+------+-------+------+-------------------+\n",
            "|userId|movieId|rating|          timestamp|\n",
            "+------+-------+------+-------------------+\n",
            "|     1|      2|   3.5|2005-04-02 23:53:47|\n",
            "|     1|     29|   3.5|2005-04-02 23:31:16|\n",
            "|     1|     32|   3.5|2005-04-02 23:33:39|\n",
            "|     1|     47|   3.5|2005-04-02 23:32:07|\n",
            "|     1|     50|   3.5|2005-04-02 23:29:40|\n",
            "+------+-------+------+-------------------+\n",
            "only showing top 5 rows\n",
            "\n"
          ]
        }
      ]
    },
    {
      "cell_type": "markdown",
      "source": [
        "### Data Cleaning\n",
        "\n",
        "\n",
        "1.   Remove rows with no Rating\n",
        "2.   Filter out movies or users with few ratings\n",
        "\n"
      ],
      "metadata": {
        "id": "-xeV5Px4Npt1"
      }
    },
    {
      "cell_type": "code",
      "source": [
        "ratings_df = ratings_df.filter(functions.col('rating').isNotNull())"
      ],
      "metadata": {
        "id": "R2qTmw-aNAYZ"
      },
      "execution_count": 8,
      "outputs": []
    },
    {
      "cell_type": "code",
      "source": [
        "# Filter out movies or users with few ratings\n",
        "min_ratings = 50\n",
        "movies_df = ratings_df.groupBy('movieId').count().filter(functions.col('count') >= min_ratings)\n",
        "movies_df = movies_df.select('movieId')\n",
        "ratings_df = ratings_df.join(movies_df, on='movieId', how='inner')\n",
        "users_df = ratings_df.groupBy('userId').count().filter(functions.col('count') >= min_ratings)\n",
        "users_df = users_df.select('userId')\n",
        "ratings_df = ratings_df.join(users_df, on='userId', how='inner')"
      ],
      "metadata": {
        "id": "jgSKRzA_Nhe8"
      },
      "execution_count": 9,
      "outputs": []
    },
    {
      "cell_type": "code",
      "source": [
        "ratings_df.printSchema()\n",
        "ratings_df = ratings_df.withColumn(\"userId\", ratings_df[\"userId\"].cast('int'))\n",
        "ratings_df = ratings_df.withColumn(\"movieId\", ratings_df[\"movieId\"].cast('int'))\n",
        "ratings_df = ratings_df.withColumn(\"rating\", ratings_df[\"rating\"].cast('float'))\n",
        "ratings_df.printSchema()"
      ],
      "metadata": {
        "id": "gVYCnsvFPWzO",
        "colab": {
          "base_uri": "https://localhost:8080/"
        },
        "outputId": "63d7dd8c-8194-4cb8-da3f-303bbceaa5ec"
      },
      "execution_count": 10,
      "outputs": [
        {
          "output_type": "stream",
          "name": "stdout",
          "text": [
            "root\n",
            " |-- userId: string (nullable = true)\n",
            " |-- movieId: string (nullable = true)\n",
            " |-- rating: string (nullable = true)\n",
            " |-- timestamp: string (nullable = true)\n",
            "\n",
            "root\n",
            " |-- userId: integer (nullable = true)\n",
            " |-- movieId: integer (nullable = true)\n",
            " |-- rating: float (nullable = true)\n",
            " |-- timestamp: string (nullable = true)\n",
            "\n"
          ]
        }
      ]
    },
    {
      "cell_type": "code",
      "source": [
        "# Split the data into training and test sets\n",
        "(train_df, test_df) = ratings_df.randomSplit([0.8, 0.2])\n",
        "train_df = train_df.limit(100000)"
      ],
      "metadata": {
        "id": "Vm33YddcN49K"
      },
      "execution_count": 11,
      "outputs": []
    },
    {
      "cell_type": "code",
      "source": [
        "# Define the ALS model\n",
        "als = ALS(rank=50, maxIter=10, regParam=0.1, userCol='userId', itemCol='movieId', ratingCol='rating',\n",
        "          coldStartStrategy='drop')"
      ],
      "metadata": {
        "id": "hUZcxtFFPIw9"
      },
      "execution_count": 12,
      "outputs": []
    },
    {
      "cell_type": "code",
      "source": [
        "# Fit the ALS model to the training data\n",
        "model = als.fit(train_df)"
      ],
      "metadata": {
        "id": "6b8bADXcPMWM"
      },
      "execution_count": 13,
      "outputs": []
    },
    {
      "cell_type": "code",
      "source": [
        "predictions_df = model.transform(test_df)"
      ],
      "metadata": {
        "id": "oZk3UPTkPOVw"
      },
      "execution_count": 14,
      "outputs": []
    },
    {
      "cell_type": "code",
      "source": [
        "from pyspark.ml.evaluation import RegressionEvaluator\n",
        "\n",
        "evaluator = RegressionEvaluator(metricName='rmse', labelCol='rating', predictionCol='prediction')\n",
        "rmse = evaluator.evaluate(predictions_df)\n",
        "print(f'Root mean squared error: {rmse:.4f}')"
      ],
      "metadata": {
        "colab": {
          "base_uri": "https://localhost:8080/"
        },
        "id": "-hA6Dazta08A",
        "outputId": "ac83f8c0-d951-4a6e-e859-3a8e1ac9c8a2"
      },
      "execution_count": 15,
      "outputs": [
        {
          "output_type": "stream",
          "name": "stdout",
          "text": [
            "Root mean squared error: 0.9066\n"
          ]
        }
      ]
    },
    {
      "cell_type": "code",
      "source": [
        "#Recommend similar users based on their ratings on movies\n",
        "# Select a target user\n",
        "target_user = 1\n",
        "\n",
        "# Predict the ratings that the target user would give to all movies\n",
        "target_user_predictions_df = model.recommendForUserSubset(spark.createDataFrame([(target_user, )], ['userId']), ratings_df.count())\n",
        "\n"
      ],
      "metadata": {
        "id": "kCXj6ieya3FI"
      },
      "execution_count": 16,
      "outputs": []
    },
    {
      "cell_type": "code",
      "source": [
        "# Find the users who have similar ratings patterns to the target user\n",
        "from pyspark.ml.linalg import Vectors, VectorUDT\n",
        "from pyspark.sql.functions import udf\n",
        "\n",
        "def to_vector(row):\n",
        "    return Vectors.dense(row)\n",
        "    \n",
        "to_vector_udf = udf(to_vector, VectorUDT())"
      ],
      "metadata": {
        "id": "Csm-2UA_be0r"
      },
      "execution_count": 17,
      "outputs": []
    },
    {
      "cell_type": "code",
      "source": [
        "target_user_predictions_df.printSchema()"
      ],
      "metadata": {
        "colab": {
          "base_uri": "https://localhost:8080/"
        },
        "id": "wRBUQlWWcEEh",
        "outputId": "ef1130ca-c2ba-4c6e-fc43-7571e75a5ab1"
      },
      "execution_count": 18,
      "outputs": [
        {
          "output_type": "stream",
          "name": "stdout",
          "text": [
            "root\n",
            " |-- userId: integer (nullable = false)\n",
            " |-- recommendations: array (nullable = true)\n",
            " |    |-- element: struct (containsNull = true)\n",
            " |    |    |-- movieId: integer (nullable = true)\n",
            " |    |    |-- rating: float (nullable = true)\n",
            "\n"
          ]
        }
      ]
    },
    {
      "cell_type": "code",
      "source": [
        "target_user_predictions_df.show(3, truncate=False)"
      ],
      "metadata": {
        "id": "FnjJ0XmEdh7g"
      },
      "execution_count": null,
      "outputs": []
    },
    {
      "cell_type": "code",
      "source": [
        "target_user_predictions = target_user_predictions_df.select(to_vector_udf(functions.collect_list('recommendations.rating')).alias('target_user_ratings'))\n",
        "\n",
        "other_users_predictions_df = model.recommendForAllUsers(ratings_df.count()).select(to_vector_udf(functions.collect_list('recommendations.rating')).alias('other_users_ratings'))\n"
      ],
      "metadata": {
        "id": "rmTk3QzrblU_"
      },
      "execution_count": 20,
      "outputs": []
    },
    {
      "cell_type": "markdown",
      "source": [
        "Steps left:\n",
        "\n",
        "\n",
        "1.   Calculate the cosine similarity between the target user predictions and other's prediction\n",
        "2.   Sort and display top 10 similar users\n",
        "\n"
      ],
      "metadata": {
        "id": "L9hlhjdrzsAj"
      }
    },
    {
      "cell_type": "code",
      "source": [
        "#similarity_df = target_user_predictions_df.crossJoin(other_users_predictions_df).withColumn('similarity', functions.cosine_similarity(functions.col('target_user_ratings'), functions.col('other_users_ratings')))\n",
        "\n",
        "#similar_users_df = similarity_df.sort(functions.desc('similarity'))"
      ],
      "metadata": {
        "id": "5ah6b61-jSgk"
      },
      "execution_count": null,
      "outputs": []
    },
    {
      "cell_type": "code",
      "source": [
        "#similar_users_df.show(10)"
      ],
      "metadata": {
        "id": "NBWEYJoQbzTR"
      },
      "execution_count": null,
      "outputs": []
    },
    {
      "cell_type": "code",
      "source": [],
      "metadata": {
        "id": "URH_tRAYcnzt"
      },
      "execution_count": null,
      "outputs": []
    }
  ]
}