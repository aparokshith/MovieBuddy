{
  "nbformat": 4,
  "nbformat_minor": 0,
  "metadata": {
    "colab": {
      "provenance": [],
      "authorship_tag": "ABX9TyO1JZyqHF8KDjx82l1QGh0x",
      "include_colab_link": true
    },
    "kernelspec": {
      "name": "python3",
      "display_name": "Python 3"
    },
    "language_info": {
      "name": "python"
    },
    "accelerator": "GPU",
    "gpuClass": "standard"
  },
  "cells": [
    {
      "cell_type": "markdown",
      "metadata": {
        "id": "view-in-github",
        "colab_type": "text"
      },
      "source": [
        "<a href=\"https://colab.research.google.com/github/aparokshith/MovieBuddy/blob/main/MovieBuddy.ipynb\" target=\"_parent\"><img src=\"https://colab.research.google.com/assets/colab-badge.svg\" alt=\"Open In Colab\"/></a>"
      ]
    },
    {
      "cell_type": "code",
      "execution_count": 1,
      "metadata": {
        "colab": {
          "base_uri": "https://localhost:8080/"
        },
        "id": "zBxP5Q8cDMgn",
        "outputId": "babf5821-efe3-4da5-bba3-690922c4412b"
      },
      "outputs": [
        {
          "output_type": "stream",
          "name": "stdout",
          "text": [
            "Looking in indexes: https://pypi.org/simple, https://us-python.pkg.dev/colab-wheels/public/simple/\n",
            "Collecting pyspark\n",
            "  Downloading pyspark-3.3.1.tar.gz (281.4 MB)\n",
            "\u001b[K     |████████████████████████████████| 281.4 MB 47 kB/s \n",
            "\u001b[?25hCollecting py4j==0.10.9.5\n",
            "  Downloading py4j-0.10.9.5-py2.py3-none-any.whl (199 kB)\n",
            "\u001b[K     |████████████████████████████████| 199 kB 39.6 MB/s \n",
            "\u001b[?25hBuilding wheels for collected packages: pyspark\n",
            "  Building wheel for pyspark (setup.py) ... \u001b[?25l\u001b[?25hdone\n",
            "  Created wheel for pyspark: filename=pyspark-3.3.1-py2.py3-none-any.whl size=281845512 sha256=9b2ba06cf132898a958d58e7185a1dbe99fcacf8eb1ab47229c69bb39541a233\n",
            "  Stored in directory: /root/.cache/pip/wheels/43/dc/11/ec201cd671da62fa9c5cc77078235e40722170ceba231d7598\n",
            "Successfully built pyspark\n",
            "Installing collected packages: py4j, pyspark\n",
            "Successfully installed py4j-0.10.9.5 pyspark-3.3.1\n"
          ]
        }
      ],
      "source": [
        "!pip install pyspark"
      ]
    },
    {
      "cell_type": "code",
      "source": [
        "from pyspark.ml.recommendation import ALS\n",
        "from pyspark.ml.evaluation import RegressionEvaluator\n",
        "from pyspark.context import SparkContext\n",
        "from pyspark.sql.session import SparkSession\n",
        "from pyspark.sql import functions\n",
        "spark = SparkSession.builder.getOrCreate()"
      ],
      "metadata": {
        "id": "5IDyeIU5DYTd"
      },
      "execution_count": 2,
      "outputs": []
    },
    {
      "cell_type": "code",
      "source": [
        "#from google.colab import drive\n",
        "#drive.mount('/gdrive')\n",
        "#%cd /gdrive"
      ],
      "metadata": {
        "id": "UVR9wmZsDoHW"
      },
      "execution_count": null,
      "outputs": []
    },
    {
      "cell_type": "code",
      "source": [
        "! pip install kaggle\n",
        "! mkdir ~/.kaggle\n",
        "! cp /content/kaggle.json ~/.kaggle/\n",
        "! chmod 600 ~/.kaggle/kaggle.json"
      ],
      "metadata": {
        "colab": {
          "base_uri": "https://localhost:8080/"
        },
        "id": "P_GbmX61FIFW",
        "outputId": "23ab1ce1-779f-4915-ea8c-72d2a4c479c2"
      },
      "execution_count": 6,
      "outputs": [
        {
          "output_type": "stream",
          "name": "stdout",
          "text": [
            "Looking in indexes: https://pypi.org/simple, https://us-python.pkg.dev/colab-wheels/public/simple/\n",
            "Requirement already satisfied: kaggle in /usr/local/lib/python3.8/dist-packages (1.5.12)\n",
            "Requirement already satisfied: python-dateutil in /usr/local/lib/python3.8/dist-packages (from kaggle) (2.8.2)\n",
            "Requirement already satisfied: six>=1.10 in /usr/local/lib/python3.8/dist-packages (from kaggle) (1.15.0)\n",
            "Requirement already satisfied: urllib3 in /usr/local/lib/python3.8/dist-packages (from kaggle) (1.24.3)\n",
            "Requirement already satisfied: requests in /usr/local/lib/python3.8/dist-packages (from kaggle) (2.23.0)\n",
            "Requirement already satisfied: python-slugify in /usr/local/lib/python3.8/dist-packages (from kaggle) (7.0.0)\n",
            "Requirement already satisfied: certifi in /usr/local/lib/python3.8/dist-packages (from kaggle) (2022.12.7)\n",
            "Requirement already satisfied: tqdm in /usr/local/lib/python3.8/dist-packages (from kaggle) (4.64.1)\n",
            "Requirement already satisfied: text-unidecode>=1.3 in /usr/local/lib/python3.8/dist-packages (from python-slugify->kaggle) (1.3)\n",
            "Requirement already satisfied: chardet<4,>=3.0.2 in /usr/local/lib/python3.8/dist-packages (from requests->kaggle) (3.0.4)\n",
            "Requirement already satisfied: idna<3,>=2.5 in /usr/local/lib/python3.8/dist-packages (from requests->kaggle) (2.10)\n"
          ]
        }
      ]
    },
    {
      "cell_type": "code",
      "source": [
        "! kaggle datasets download grouplens/movielens-20m-dataset"
      ],
      "metadata": {
        "colab": {
          "base_uri": "https://localhost:8080/"
        },
        "id": "qZyGYgADuCg2",
        "outputId": "8499151f-6c35-473f-c080-55341703e127"
      },
      "execution_count": 7,
      "outputs": [
        {
          "output_type": "stream",
          "name": "stdout",
          "text": [
            "Downloading movielens-20m-dataset.zip to /content\n",
            " 98% 192M/195M [00:06<00:00, 36.8MB/s]\n",
            "100% 195M/195M [00:06<00:00, 31.8MB/s]\n"
          ]
        }
      ]
    },
    {
      "cell_type": "code",
      "source": [
        "\n",
        "! unzip /content/movielens-20m-dataset.zip"
      ],
      "metadata": {
        "colab": {
          "base_uri": "https://localhost:8080/"
        },
        "id": "707F3tF6HrdI",
        "outputId": "1c77ec9f-6054-4738-e0cc-e066cd9b9c76"
      },
      "execution_count": 8,
      "outputs": [
        {
          "output_type": "stream",
          "name": "stdout",
          "text": [
            "Archive:  /content/movielens-20m-dataset.zip\n",
            "  inflating: genome_scores.csv       \n",
            "  inflating: genome_tags.csv         \n",
            "  inflating: link.csv                \n",
            "  inflating: movie.csv               \n",
            "  inflating: rating.csv              \n",
            "  inflating: tag.csv                 \n"
          ]
        }
      ]
    },
    {
      "cell_type": "code",
      "source": [
        "ratings_df = spark.read.csv('/content/rating.csv',header = True)\n",
        "ratings_df.show( n =5)"
      ],
      "metadata": {
        "colab": {
          "base_uri": "https://localhost:8080/"
        },
        "id": "yktYLx0nMOJZ",
        "outputId": "16ebca45-d9bc-45bf-de36-75a85c86e04f"
      },
      "execution_count": 9,
      "outputs": [
        {
          "output_type": "stream",
          "name": "stdout",
          "text": [
            "+------+-------+------+-------------------+\n",
            "|userId|movieId|rating|          timestamp|\n",
            "+------+-------+------+-------------------+\n",
            "|     1|      2|   3.5|2005-04-02 23:53:47|\n",
            "|     1|     29|   3.5|2005-04-02 23:31:16|\n",
            "|     1|     32|   3.5|2005-04-02 23:33:39|\n",
            "|     1|     47|   3.5|2005-04-02 23:32:07|\n",
            "|     1|     50|   3.5|2005-04-02 23:29:40|\n",
            "+------+-------+------+-------------------+\n",
            "only showing top 5 rows\n",
            "\n"
          ]
        }
      ]
    },
    {
      "cell_type": "markdown",
      "source": [
        "### Data Cleaning\n",
        "\n",
        "\n",
        "1.   Remove rows with no Rating\n",
        "2.   Filter out movies or users with few ratings\n",
        "\n"
      ],
      "metadata": {
        "id": "-xeV5Px4Npt1"
      }
    },
    {
      "cell_type": "code",
      "source": [
        "ratings_df = ratings_df.filter(functions.col('rating').isNotNull())"
      ],
      "metadata": {
        "id": "R2qTmw-aNAYZ"
      },
      "execution_count": 10,
      "outputs": []
    },
    {
      "cell_type": "code",
      "source": [
        "# Filter out movies or users with few ratings\n",
        "min_ratings = 50\n",
        "movies_df = ratings_df.groupBy('movieId').count().filter(functions.col('count') >= min_ratings)\n",
        "movies_df = movies_df.select('movieId')\n",
        "ratings_df = ratings_df.join(movies_df, on='movieId', how='inner')\n",
        "users_df = ratings_df.groupBy('userId').count().filter(functions.col('count') >= min_ratings)\n",
        "users_df = users_df.select('userId')\n",
        "ratings_df = ratings_df.join(users_df, on='userId', how='inner')"
      ],
      "metadata": {
        "id": "jgSKRzA_Nhe8"
      },
      "execution_count": 11,
      "outputs": []
    },
    {
      "cell_type": "code",
      "source": [
        "ratings_df.printSchema()\n",
        "ratings_df = ratings_df.withColumn(\"userId\", ratings_df[\"userId\"].cast('int'))\n",
        "ratings_df = ratings_df.withColumn(\"movieId\", ratings_df[\"movieId\"].cast('int'))\n",
        "ratings_df = ratings_df.withColumn(\"rating\", ratings_df[\"rating\"].cast('float'))\n",
        "ratings_df.printSchema()"
      ],
      "metadata": {
        "id": "gVYCnsvFPWzO",
        "colab": {
          "base_uri": "https://localhost:8080/"
        },
        "outputId": "164fb020-f6f2-4906-fcb6-9eacb9ac7405"
      },
      "execution_count": 12,
      "outputs": [
        {
          "output_type": "stream",
          "name": "stdout",
          "text": [
            "root\n",
            " |-- userId: string (nullable = true)\n",
            " |-- movieId: string (nullable = true)\n",
            " |-- rating: string (nullable = true)\n",
            " |-- timestamp: string (nullable = true)\n",
            "\n",
            "root\n",
            " |-- userId: integer (nullable = true)\n",
            " |-- movieId: integer (nullable = true)\n",
            " |-- rating: float (nullable = true)\n",
            " |-- timestamp: string (nullable = true)\n",
            "\n"
          ]
        }
      ]
    },
    {
      "cell_type": "code",
      "source": [
        "# Split the data into training and test sets\n",
        "(train_df, test_df) = ratings_df.randomSplit([0.8, 0.2])\n",
        "train_df = train_df.limit(100000)"
      ],
      "metadata": {
        "id": "Vm33YddcN49K"
      },
      "execution_count": 13,
      "outputs": []
    },
    {
      "cell_type": "code",
      "source": [
        "# Define the ALS model\n",
        "als = ALS(rank=50, maxIter=10, regParam=0.1, userCol='userId', itemCol='movieId', ratingCol='rating',\n",
        "          coldStartStrategy='drop')"
      ],
      "metadata": {
        "id": "hUZcxtFFPIw9"
      },
      "execution_count": 14,
      "outputs": []
    },
    {
      "cell_type": "code",
      "source": [
        "# Fit the ALS model to the training data\n",
        "model = als.fit(train_df)"
      ],
      "metadata": {
        "id": "6b8bADXcPMWM"
      },
      "execution_count": 15,
      "outputs": []
    },
    {
      "cell_type": "code",
      "source": [],
      "metadata": {
        "id": "oZk3UPTkPOVw"
      },
      "execution_count": null,
      "outputs": []
    }
  ]
}